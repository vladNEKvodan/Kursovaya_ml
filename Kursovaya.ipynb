{
 "cells": [
  {
   "cell_type": "code",
   "execution_count": 7,
   "id": "f7db22e6",
   "metadata": {},
   "outputs": [
    {
     "name": "stderr",
     "output_type": "stream",
     "text": [
      "[nltk_data] Downloading package stopwords to\n",
      "[nltk_data]     C:\\Users\\01\\AppData\\Roaming\\nltk_data...\n",
      "[nltk_data]   Package stopwords is already up-to-date!\n",
      "[nltk_data] Downloading package wordnet to\n",
      "[nltk_data]     C:\\Users\\01\\AppData\\Roaming\\nltk_data...\n",
      "[nltk_data]   Package wordnet is already up-to-date!\n"
     ]
    }
   ],
   "source": [
    "import os, sys, email,re\n",
    "import numpy as np \n",
    "from nltk.tokenize.regexp import RegexpTokenizer\n",
    "from subprocess import check_output\n",
    "from sklearn.feature_extraction.text import TfidfVectorizer,CountVectorizer\n",
    "import nltk\n",
    "nltk.download('stopwords')\n",
    "nltk.download('wordnet')\n",
    "from nltk.corpus import stopwords\n",
    "from nltk.stem.wordnet import WordNetLemmatizer\n",
    "import string\n",
    "from nltk.stem.porter import PorterStemmer"
   ]
  },
  {
   "cell_type": "code",
   "execution_count": 25,
   "id": "19810dbf",
   "metadata": {},
   "outputs": [
    {
     "data": {
      "text/html": [
       "<div>\n",
       "<style scoped>\n",
       "    .dataframe tbody tr th:only-of-type {\n",
       "        vertical-align: middle;\n",
       "    }\n",
       "\n",
       "    .dataframe tbody tr th {\n",
       "        vertical-align: top;\n",
       "    }\n",
       "\n",
       "    .dataframe thead th {\n",
       "        text-align: right;\n",
       "    }\n",
       "</style>\n",
       "<table border=\"1\" class=\"dataframe\">\n",
       "  <thead>\n",
       "    <tr style=\"text-align: right;\">\n",
       "      <th></th>\n",
       "      <th>file</th>\n",
       "      <th>message</th>\n",
       "    </tr>\n",
       "  </thead>\n",
       "  <tbody>\n",
       "    <tr>\n",
       "      <th>0</th>\n",
       "      <td>allen-p/_sent_mail/1.</td>\n",
       "      <td>Message-ID: &lt;18782981.1075855378110.JavaMail.e...</td>\n",
       "    </tr>\n",
       "    <tr>\n",
       "      <th>1</th>\n",
       "      <td>allen-p/_sent_mail/10.</td>\n",
       "      <td>Message-ID: &lt;15464986.1075855378456.JavaMail.e...</td>\n",
       "    </tr>\n",
       "    <tr>\n",
       "      <th>2</th>\n",
       "      <td>allen-p/_sent_mail/106.</td>\n",
       "      <td>Message-ID: &lt;2707340.1075855687584.JavaMail.ev...</td>\n",
       "    </tr>\n",
       "    <tr>\n",
       "      <th>3</th>\n",
       "      <td>allen-p/_sent_mail/127.</td>\n",
       "      <td>Message-ID: &lt;26911498.1075855688052.JavaMail.e...</td>\n",
       "    </tr>\n",
       "    <tr>\n",
       "      <th>4</th>\n",
       "      <td>allen-p/_sent_mail/131.</td>\n",
       "      <td>Message-ID: &lt;32280829.1075855688139.JavaMail.e...</td>\n",
       "    </tr>\n",
       "  </tbody>\n",
       "</table>\n",
       "</div>"
      ],
      "text/plain": [
       "                      file                                            message\n",
       "0    allen-p/_sent_mail/1.  Message-ID: <18782981.1075855378110.JavaMail.e...\n",
       "1   allen-p/_sent_mail/10.  Message-ID: <15464986.1075855378456.JavaMail.e...\n",
       "2  allen-p/_sent_mail/106.  Message-ID: <2707340.1075855687584.JavaMail.ev...\n",
       "3  allen-p/_sent_mail/127.  Message-ID: <26911498.1075855688052.JavaMail.e...\n",
       "4  allen-p/_sent_mail/131.  Message-ID: <32280829.1075855688139.JavaMail.e..."
      ]
     },
     "execution_count": 25,
     "metadata": {},
     "output_type": "execute_result"
    }
   ],
   "source": [
    "import pandas as pd\n",
    "emails_df = pd.read_csv('C:\\\\Users\\\\01\\\\Downloads\\\\emails.csv')\n",
    "emails_df = emails_df.drop(emails_df.sample(n=467000).index)\n",
    "emails_df = emails_df.reset_index(drop=True)\n",
    "emails_df.head()"
   ]
  },
  {
   "cell_type": "code",
   "execution_count": 26,
   "id": "a3b0c006",
   "metadata": {},
   "outputs": [],
   "source": [
    "#функции для получения датасета в нормальном виде\n",
    "def get_text_from_email(msg):\n",
    "    '''To get the content from email objects'''\n",
    "    parts = []\n",
    "    for part in msg.walk():\n",
    "        if part.get_content_type() == 'text/plain':\n",
    "            parts.append( part.get_payload() )\n",
    "    return ''.join(parts)\n",
    "\n",
    "def split_email_addresses(line):\n",
    "    '''To separate multiple email addresses'''\n",
    "    if line:\n",
    "        addrs = line.split(',')\n",
    "        addrs = frozenset(map(lambda x: x.strip(), addrs))\n",
    "    else:\n",
    "        addrs = None\n",
    "    return addrs"
   ]
  },
  {
   "cell_type": "code",
   "execution_count": 27,
   "id": "e7bb24ac",
   "metadata": {},
   "outputs": [],
   "source": [
    "messages = list(map(email.message_from_string, emails_df['message']))\n",
    "emails_df.drop('message', axis=1, inplace=True)\n",
    "keys = messages[0].keys()\n",
    "for key in keys:\n",
    "    emails_df[key] = [doc[key] for doc in messages]\n",
    "emails_df['content'] = list(map(get_text_from_email, messages))\n",
    "emails_df['From'] = emails_df['From'].map(split_email_addresses)\n",
    "emails_df['user'] = emails_df['file'].map(lambda x:x.split('/')[0])\n",
    "del messages\n",
    "\n",
    "emails_df = emails_df[['user', 'content']]"
   ]
  },
  {
   "cell_type": "code",
   "execution_count": 28,
   "id": "97adbab5",
   "metadata": {},
   "outputs": [],
   "source": [
    "def clean(text):\n",
    "    stop = set(stopwords.words('english'))\n",
    "    stop.update((\"to\",\"cc\",\"subject\",\"http\",\"from\",\"sent\",\"aaaaaaaaaaaaaaaaaaaaaaaaaaaaaaaaaaaaaaaaaaaaaaaaaaaaaaaaaaaaaaaaaaaaaaaaaaaa\"))\n",
    "    exclude = set(string.punctuation) \n",
    "    lemma = WordNetLemmatizer()\n",
    "    porter= PorterStemmer()\n",
    "    \n",
    "    text=text.rstrip()\n",
    "    text = re.sub(r'[^a-zA-Z]', ' ', text)\n",
    "    stop_free = \" \".join([i for i in text.lower().split() if((i not in stop) and (not i.isdigit()))])\n",
    "    punc_free = ''.join(ch for ch in stop_free if ch not in exclude)\n",
    "    normalized = \" \".join(lemma.lemmatize(word) for word in punc_free.split())\n",
    "\n",
    "    return normalized"
   ]
  },
  {
   "cell_type": "code",
   "execution_count": 29,
   "id": "1101a171",
   "metadata": {},
   "outputs": [
    {
     "name": "stderr",
     "output_type": "stream",
     "text": [
      "[nltk_data] Downloading package omw-1.4 to\n",
      "[nltk_data]     C:\\Users\\01\\AppData\\Roaming\\nltk_data...\n",
      "[nltk_data]   Package omw-1.4 is already up-to-date!\n"
     ]
    },
    {
     "data": {
      "text/plain": [
       "True"
      ]
     },
     "execution_count": 29,
     "metadata": {},
     "output_type": "execute_result"
    }
   ],
   "source": [
    ">>> import nltk\n",
    ">>> nltk.download('omw-1.4')"
   ]
  },
  {
   "cell_type": "code",
   "execution_count": 30,
   "id": "01108eca",
   "metadata": {},
   "outputs": [
    {
     "name": "stderr",
     "output_type": "stream",
     "text": [
      "100%|██████████| 50401/50401 [00:46<00:00, 1074.13it/s]\n"
     ]
    }
   ],
   "source": [
    "from tqdm import tqdm\n",
    "\n",
    "text_clean = []\n",
    "for text in tqdm(emails_df['content']):\n",
    "    text_clean.append(clean(text).split())"
   ]
  },
  {
   "cell_type": "code",
   "execution_count": 31,
   "id": "777806d7",
   "metadata": {},
   "outputs": [],
   "source": [
    "emails_df['clean'] = text_clean"
   ]
  },
  {
   "cell_type": "code",
   "execution_count": 32,
   "id": "ffd75835",
   "metadata": {},
   "outputs": [],
   "source": [
    "top_users = emails_df['user'].value_counts().head(20).index.tolist()\n",
    "emails_df = emails_df[emails_df['user'].isin(top_users)]\n",
    "emails_df=emails_df.drop('content', axis=1)"
   ]
  },
  {
   "cell_type": "code",
   "execution_count": 33,
   "id": "b17109d2",
   "metadata": {},
   "outputs": [],
   "source": [
    "from sklearn.preprocessing import LabelEncoder\n",
    "le = LabelEncoder()\n",
    "emails_df['user'] = le.fit_transform(emails_df['user'])"
   ]
  },
  {
   "cell_type": "code",
   "execution_count": 34,
   "id": "19eb2b4f",
   "metadata": {},
   "outputs": [],
   "source": [
    "from sklearn.model_selection import train_test_split\n",
    "X_train, X_test, y_train, y_test = train_test_split(emails_df['clean'], emails_df['user'], test_size=0.25, random_state=42, shuffle=True)"
   ]
  },
  {
   "cell_type": "code",
   "execution_count": 35,
   "id": "b185ef36",
   "metadata": {},
   "outputs": [],
   "source": [
    "from sklearn.feature_extraction.text import CountVectorizer\n",
    "\n",
    "X_train_w = [' '.join(words) for words in X_train]\n",
    "X_test_w = [' '.join(words) for words in X_test]\n",
    "\n",
    "vectorizer = CountVectorizer()\n",
    "X_train = vectorizer.fit_transform(X_train_w)\n",
    "X_test = vectorizer.transform(X_test_w)"
   ]
  },
  {
   "cell_type": "code",
   "execution_count": 36,
   "id": "34ddb1d2",
   "metadata": {},
   "outputs": [
    {
     "name": "stdout",
     "output_type": "stream",
     "text": [
      "(20031, 84271)\n",
      "(6678, 84271)\n"
     ]
    }
   ],
   "source": [
    "print(X_train.shape)\n",
    "print(X_test.shape)"
   ]
  },
  {
   "cell_type": "code",
   "execution_count": 37,
   "id": "77a69377",
   "metadata": {},
   "outputs": [],
   "source": [
    "import torch\n",
    "import torch.nn as nn\n",
    "import torch.optim as optim\n",
    "import numpy as np\n",
    "import sklearn.metrics as metrics\n",
    "\n",
    "def batch_generator(X, Y, batch_size):\n",
    "    size = len(X)\n",
    "    indices = np.arange(size)\n",
    "    np.random.shuffle(indices)\n",
    "    for start in range(0, size, batch_size):\n",
    "        end = min(start + batch_size, size)\n",
    "        batch_idx = indices[start:end]\n",
    "        yield X[batch_idx], Y[batch_idx]"
   ]
  },
  {
   "cell_type": "code",
   "execution_count": null,
   "id": "6a7a84f5",
   "metadata": {},
   "outputs": [],
   "source": []
  },
  {
   "cell_type": "code",
   "execution_count": 38,
   "id": "123ff9c6",
   "metadata": {},
   "outputs": [],
   "source": [
    "import numpy as np\n",
    "import torch\n",
    "import scipy.sparse as sp\n",
    "\n",
    "X_train = torch.FloatTensor(sp.csr_matrix(X_train).todense())\n",
    "y_train = torch.LongTensor(np.array(y_train))\n",
    "X_test = torch.FloatTensor(sp.csr_matrix(X_test).todense())\n",
    "y_test = torch.LongTensor(np.array(y_test))"
   ]
  },
  {
   "cell_type": "code",
   "execution_count": 39,
   "id": "117c0d06",
   "metadata": {},
   "outputs": [],
   "source": [
    "class FCModel(nn.Module):\n",
    "    def __init__(self, input_size, output_size, hidden_size=128, dropout_rate=0.5):\n",
    "        super(FCModel, self).__init__()\n",
    "        self.fc1 = nn.Linear(input_size, hidden_size)\n",
    "        self.bn1 = nn.BatchNorm1d(hidden_size)\n",
    "        self.dropout = nn.Dropout(dropout_rate)\n",
    "        self.fc2 = nn.Linear(hidden_size, output_size)\n",
    "        self.relu = nn.ReLU()\n",
    "\n",
    "    def forward(self, x):\n",
    "        x = self.fc1(x)\n",
    "        x = self.bn1(x)\n",
    "        x = self.relu(x)\n",
    "        x = self.dropout(x)\n",
    "        x = self.fc2(x)\n",
    "        return x\n",
    "\n",
    "    def fit(self, X, y, lr=0.01, epochs=100):\n",
    "        loss_fn = nn.CrossEntropyLoss()\n",
    "        optimizer = optim.Adam(self.parameters(), lr=lr)\n",
    "        for epoch in range(epochs):\n",
    "            optimizer.zero_grad()\n",
    "            outputs = self(X)\n",
    "            loss = loss_fn(outputs, y)\n",
    "            loss.backward()\n",
    "            optimizer.step()\n",
    "        return self\n",
    "\n",
    "    def accuracy(self, X, y):\n",
    "        correct = 0\n",
    "        total = 0\n",
    "        with torch.no_grad():\n",
    "            outputs = self(X)\n",
    "            _, predicted = torch.max(outputs.data, 1)\n",
    "            total += y.size(0)\n",
    "            correct += (predicted == y).sum().item()\n",
    "        return correct / total"
   ]
  },
  {
   "cell_type": "code",
   "execution_count": 40,
   "id": "546e528c",
   "metadata": {},
   "outputs": [],
   "source": [
    "class RNNModel(nn.Module):\n",
    "    def __init__(self, input_size, hidden_size, output_size):\n",
    "        super().__init__()\n",
    "        self.hidden_size = hidden_size\n",
    "        self.lstm = nn.LSTM(input_size, hidden_size, num_layers=2, batch_first=True, dropout=0.2)\n",
    "        self.fc = nn.Linear(hidden_size, output_size)\n",
    "        self.relu = nn.ReLU()\n",
    "\n",
    "    def forward(self, x):\n",
    "        h0 = torch.zeros(2, x.size(0), self.hidden_size).to(x.device)\n",
    "        c0 = torch.zeros(2, x.size(0), self.hidden_size).to(x.device)\n",
    "        out, _ = self.lstm(x, (h0, c0))\n",
    "        out = self.relu(out)\n",
    "        out = self.fc(out[:, -1, :])\n",
    "        return out"
   ]
  },
  {
   "cell_type": "code",
   "execution_count": 41,
   "id": "e9fc0807",
   "metadata": {},
   "outputs": [],
   "source": [
    "class GRUModel(nn.Module):\n",
    "    def __init__(self, input_size, hidden_size, output_size):\n",
    "        super().__init__()\n",
    "        self.hidden_size = hidden_size\n",
    "        self.gru = nn.GRU(input_size, hidden_size, batch_first=True)\n",
    "        self.fc = nn.Linear(hidden_size, output_size)\n",
    "    \n",
    "    def forward(self, x):\n",
    "        h0 = torch.zeros(1, x.size(0), self.hidden_size)\n",
    "        out, _ = self.gru(x, h0)\n",
    "        out = self.fc(out[:, -1, :])\n",
    "        return out"
   ]
  },
  {
   "cell_type": "code",
   "execution_count": 42,
   "id": "d0291eee",
   "metadata": {},
   "outputs": [],
   "source": [
    "input_size = X_train.shape[1]\n",
    "hidden_size = 128\n",
    "output_size = len(np.unique(y_train))"
   ]
  },
  {
   "cell_type": "code",
   "execution_count": 43,
   "id": "711b8e30",
   "metadata": {},
   "outputs": [],
   "source": [
    "fc_model = FCModel(input_size, hidden_size, output_size)\n",
    "rnn_model = RNNModel(input_size, hidden_size, output_size)\n",
    "gru_model = GRUModel(input_size, hidden_size, output_size)"
   ]
  },
  {
   "cell_type": "code",
   "execution_count": 44,
   "id": "3dbd51ce",
   "metadata": {},
   "outputs": [],
   "source": [
    "batch_size = 128\n",
    "num_epochs = 10\n",
    "learning_rate = 0.001\n",
    "criterion = nn.CrossEntropyLoss()"
   ]
  },
  {
   "cell_type": "code",
   "execution_count": 110,
   "id": "30a5156a",
   "metadata": {},
   "outputs": [],
   "source": [
    "optimizer = optim.Adam(rnn_model.parameters(), lr=learning_rate)\n",
    "for epoch in range(num_epochs):\n",
    "    for batch_x, batch_y in batch_generator(X_train, y_train, batch_size):\n",
    "        optimizer.zero_grad()\n",
    "        outputs = rnn_model(batch_x.view(-1, 1, input_size))\n",
    "        loss = criterion(outputs, batch_y)\n",
    "        loss.backward()\n",
    "        optimizer.step()"
   ]
  },
  {
   "cell_type": "code",
   "execution_count": 24,
   "id": "046772ff",
   "metadata": {},
   "outputs": [],
   "source": [
    "# Обучение GRU модели\n",
    "\n",
    "optimizer = optim.Adam(gru_model.parameters(), lr=learning_rate)\n",
    "for epoch in range(num_epochs):\n",
    "    for batch_x, batch_y in batch_generator(X_train, y_train, batch_size):\n",
    "        optimizer.zero_grad()\n",
    "        outputs = gru_model(batch_x.view(-1, 1, input_size))\n",
    "        loss = criterion(outputs, batch_y)\n",
    "        loss.backward()\n",
    "        optimizer.step()"
   ]
  },
  {
   "cell_type": "code",
   "execution_count": 112,
   "id": "aea78194",
   "metadata": {},
   "outputs": [],
   "source": [
    "torch.save(fc_model.state_dict(), '2_fc_model_weights.pth')"
   ]
  },
  {
   "cell_type": "code",
   "execution_count": 113,
   "id": "40e9db81",
   "metadata": {},
   "outputs": [],
   "source": [
    "torch.save(rnn_model.state_dict(), '2_rnn_model_weights.pth')"
   ]
  },
  {
   "cell_type": "code",
   "execution_count": 114,
   "id": "c281fe06",
   "metadata": {},
   "outputs": [],
   "source": [
    "torch.save(gru_model.state_dict(), '2_gru_model_weights.pth')"
   ]
  },
  {
   "cell_type": "code",
   "execution_count": 48,
   "id": "ba16163a",
   "metadata": {},
   "outputs": [],
   "source": [
    "from sklearn.metrics import accuracy_score\n",
    "\n",
    "def evaluate(model, X, y):\n",
    "    model.eval()\n",
    "    with torch.no_grad():\n",
    "        outputs = model(X)\n",
    "        _, predicted = torch.max(outputs.data, 1)\n",
    "        accuracy = accuracy_score(y.cpu().numpy(), predicted.cpu().numpy())\n",
    "    return accuracy"
   ]
  },
  {
   "cell_type": "code",
   "execution_count": 46,
   "id": "dbff7283",
   "metadata": {},
   "outputs": [],
   "source": [
    "def create_data_loader(X, y, batch_size):\n",
    "    data = TensorDataset(torch.tensor(X), torch.tensor(y))\n",
    "    return DataLoader(data, batch_size=batch_size)\n"
   ]
  },
  {
   "cell_type": "code",
   "execution_count": 43,
   "id": "756833cc",
   "metadata": {},
   "outputs": [],
   "source": [
    "def evaluate(model, criterion, data_loader):\n",
    "    total_loss = 0\n",
    "    total_correct = 0\n",
    "    total_samples = 0\n",
    "\n",
    "    model.eval()\n",
    "\n",
    "    with torch.no_grad():\n",
    "        for x, y in data_loader:\n",
    "            outputs = model(x)\n",
    "            loss = criterion(outputs, y)\n",
    "\n",
    "            total_loss += loss.item() * x.shape[0]\n",
    "            total_correct += (torch.argmax(outputs, dim=1) == y).sum().item()\n",
    "            total_samples += x.shape[0]\n",
    "\n",
    "    avg_loss = total_loss / total_samples\n",
    "    avg_accuracy = total_correct / total_samples\n",
    "\n",
    "    return avg_loss, avg_accuracy"
   ]
  },
  {
   "cell_type": "code",
   "execution_count": 97,
   "id": "7f46b1ea",
   "metadata": {},
   "outputs": [
    {
     "name": "stdout",
     "output_type": "stream",
     "text": [
      "Epoch 1/10, train loss: 3.0508, train acc: 0.4341, val loss: 1.9132, val acc: 0.6563\n",
      "Epoch 2/10, train loss: 1.4121, train acc: 0.7471, val loss: 1.3533, val acc: 0.7248\n",
      "Epoch 3/10, train loss: 0.9352, train acc: 0.8157, val loss: 1.1762, val acc: 0.7432\n",
      "Epoch 4/10, train loss: 0.6963, train acc: 0.8597, val loss: 1.1179, val acc: 0.7535\n",
      "Epoch 5/10, train loss: 0.5595, train acc: 0.8860, val loss: 1.1312, val acc: 0.7514\n",
      "Epoch 6/10, train loss: 0.4788, train acc: 0.9014, val loss: 1.1519, val acc: 0.7595\n",
      "Epoch 7/10, train loss: 0.4067, train acc: 0.9171, val loss: 1.1477, val acc: 0.7583\n",
      "Epoch 8/10, train loss: 0.3659, train acc: 0.9248, val loss: 1.2121, val acc: 0.7574\n",
      "Epoch 9/10, train loss: 0.3299, train acc: 0.9326, val loss: 1.2397, val acc: 0.7574\n",
      "Epoch 10/10, train loss: 0.3097, train acc: 0.9391, val loss: 1.6480, val acc: 0.7363\n"
     ]
    },
    {
     "data": {
      "image/png": "[encoded data removed]",
      "text/plain": [
       "<Figure size 640x480 with 1 Axes>"
      ]
     },
     "metadata": {},
     "output_type": "display_data"
    },
    {
     "data": {
      "image/png": "[encoded data removed]",
      "text/plain": [
       "<Figure size 640x480 with 1 Axes>"
      ]
     },
     "metadata": {},
     "output_type": "display_data"
    }
   ],
   "source": [
    "import matplotlib.pyplot as plt\n",
    "\n",
    "X_val = torch.Tensor(X_test).float()\n",
    "y_val = torch.Tensor(y_test).long()\n",
    "\n",
    "\n",
    "optimizer = optim.Adam(fc_model.parameters(), lr=learning_rate)\n",
    "\n",
    "train_losses = []\n",
    "train_accs = []\n",
    "val_losses = []\n",
    "val_accs = []\n",
    "\n",
    "for epoch in range(num_epochs):\n",
    "    running_loss = 0.0\n",
    "    running_acc = 0.0\n",
    "    for batch_x, batch_y in batch_generator(X_train, y_train, batch_size):\n",
    "        optimizer.zero_grad()\n",
    "        outputs = fc_model(batch_x)\n",
    "        loss = criterion(outputs, batch_y)\n",
    "        loss.backward()\n",
    "        optimizer.step()\n",
    "        running_loss += loss.item() * batch_x.size(0)\n",
    "        _, predicted = torch.max(outputs.data, 1)\n",
    "        running_acc += (predicted == batch_y).sum().item()\n",
    "    epoch_loss = running_loss / len(X_train)\n",
    "    epoch_acc = running_acc / len(X_train)\n",
    "    train_losses.append(epoch_loss)\n",
    "    train_accs.append(epoch_acc)\n",
    "\n",
    "    with torch.no_grad():\n",
    "        running_loss = 0.0\n",
    "        running_acc = 0.0\n",
    "        for batch_x, batch_y in batch_generator(X_val, y_val, batch_size):\n",
    "            outputs = fc_model(batch_x)\n",
    "            loss = criterion(outputs, batch_y)\n",
    "            running_loss += loss.item() * batch_x.size(0)\n",
    "            _, predicted = torch.max(outputs.data, 1)\n",
    "            running_acc += (predicted == batch_y).sum().item()\n",
    "        epoch_loss = running_loss / len(X_val)\n",
    "        epoch_acc = running_acc / len(X_val)\n",
    "        val_losses.append(epoch_loss)\n",
    "        val_accs.append(epoch_acc)\n",
    "\n",
    "    print(f'Epoch {epoch+1}/{num_epochs}, train loss: {train_losses[-1]:.4f}, train acc: {train_accs[-1]:.4f}, val loss: {val_losses[-1]:.4f}, val acc: {val_accs[-1]:.4f}')\n",
    "\n",
    "\n",
    "plt.plot(range(num_epochs), train_losses, label='train')\n",
    "plt.plot(range(num_epochs), val_losses, label='validation')\n",
    "plt.xlabel('Epoch')\n",
    "plt.ylabel('Loss')\n",
    "plt.legend()\n",
    "plt.show()\n",
    "\n",
    "\n",
    "plt.plot(range(num_epochs), train_accs, label='train')\n",
    "plt.plot(range(num_epochs), val_accs, label='validation')\n",
    "plt.xlabel('Epoch')\n",
    "plt.ylabel('Accuracy')\n",
    "plt.legend()\n",
    "plt.show()"
   ]
  },
  {
   "cell_type": "code",
   "execution_count": 111,
   "id": "252e486b",
   "metadata": {},
   "outputs": [
    {
     "name": "stdout",
     "output_type": "stream",
     "text": [
      "RNN accuracy score: 6.97%\n"
     ]
    }
   ],
   "source": [
    "rnn_model.eval()\n",
    "\n",
    "with torch.no_grad():\n",
    "    y_pred = []\n",
    "    for batch_x, batch_y in batch_generator(X_test, y_test, batch_size):\n",
    "        outputs = rnn_model(batch_x.view(-1, 1, input_size))\n",
    "        _, predicted = torch.max(outputs.data, 1)\n",
    "        y_pred.extend(predicted.tolist())\n",
    "\n",
    "rnn_accuracy = accuracy_score(y_test, y_pred)\n",
    "print(\"RNN accuracy score: {:.2f}%\".format(rnn_accuracy * 100))"
   ]
  },
  {
   "cell_type": "code",
   "execution_count": 37,
   "id": "ed28fd71",
   "metadata": {},
   "outputs": [
    {
     "name": "stdout",
     "output_type": "stream",
     "text": [
      "RNN precision score: 6.17%\n",
      "RNN recall score: 6.29%\n",
      "RNN F1 score: 6.23%\n"
     ]
    }
   ],
   "source": [
    "from sklearn.metrics import precision_score, recall_score, f1_score\n",
    "\n",
    "rnn_model.eval()\n",
    "\n",
    "with torch.no_grad():\n",
    "    y_pred = []\n",
    "    for batch_x, batch_y in batch_generator(X_test, y_test, batch_size):\n",
    "        outputs = rnn_model(batch_x.view(-1, 1, input_size))\n",
    "        _, predicted = torch.max(outputs.data, 1)\n",
    "        y_pred.extend(predicted.tolist())\n",
    "\n",
    "rnn_precision = precision_score(y_test, y_pred, average='weighted')\n",
    "rnn_recall = recall_score(y_test, y_pred, average='weighted')\n",
    "rnn_f1 = f1_score(y_test, y_pred, average='weighted')\n",
    "\n",
    "print(\"RNN precision score: {:.2f}%\".format(rnn_precision * 100))\n",
    "print(\"RNN recall score: {:.2f}%\".format(rnn_recall * 100))\n",
    "print(\"RNN F1 score: {:.2f}%\".format(rnn_f1 * 100))"
   ]
  },
  {
   "cell_type": "code",
   "execution_count": 41,
   "id": "70aa33cb",
   "metadata": {},
   "outputs": [
    {
     "name": "stdout",
     "output_type": "stream",
     "text": [
      "GRU precision score: 6.22%\n",
      "GRU recall score: 6.37%\n",
      "GRU F1 score: 6.28%\n"
     ]
    }
   ],
   "source": [
    "from sklearn.metrics import precision_score, recall_score, f1_score\n",
    "\n",
    "gru_model.eval()\n",
    "\n",
    "with torch.no_grad():\n",
    "    y_pred = []\n",
    "    for batch_x, batch_y in batch_generator(X_test, y_test, batch_size):\n",
    "        outputs = gru_model(batch_x.view(-1, 1, input_size))\n",
    "        _, predicted = torch.max(outputs.data, 1)\n",
    "        y_pred.extend(predicted.tolist())\n",
    "\n",
    "        \n",
    "# Вычисление метрик precision, recall и f1-score\n",
    "gru_precision = precision_score(y_test, y_pred, average='weighted')\n",
    "gru_recall = recall_score(y_test, y_pred, average='weighted')\n",
    "gru_f1 = f1_score(y_test, y_pred, average='weighted')\n",
    "\n",
    "print(\"GRU precision score: {:.2f}%\".format(gru_precision * 100))\n",
    "print(\"GRU recall score: {:.2f}%\".format(gru_recall * 100))\n",
    "print(\"GRU F1 score: {:.2f}%\".format(gru_f1 * 100))"
   ]
  },
  {
   "cell_type": "code",
   "execution_count": 52,
   "id": "13c3d114",
   "metadata": {},
   "outputs": [
    {
     "name": "stdout",
     "output_type": "stream",
     "text": [
      "GRU accuracy score: 6.52%\n"
     ]
    }
   ],
   "source": [
    "gru_model.eval()\n",
    "\n",
    "with torch.no_grad():\n",
    "    y_pred = []\n",
    "    for batch_x, batch_y in batch_generator(X_test, y_test, batch_size):\n",
    "        outputs = gru_model(batch_x.view(-1, 1, input_size))\n",
    "        _, predicted = torch.max(outputs.data, 1)\n",
    "        y_pred.extend(predicted.tolist())\n",
    "\n",
    "gru_accuracy = accuracy_score(y_test, y_pred)\n",
    "print(\"GRU accuracy score: {:.2f}%\".format(gru_accuracy * 100))"
   ]
  },
  {
   "cell_type": "code",
   "execution_count": null,
   "id": "f31327de",
   "metadata": {},
   "outputs": [],
   "source": []
  }
 ],
 "metadata": {
  "kernelspec": {
   "display_name": "Python 3 (ipykernel)",
   "language": "python",
   "name": "python3"
  },
  "language_info": {
   "codemirror_mode": {
    "name": "ipython",
    "version": 3
   },
   "file_extension": ".py",
   "mimetype": "text/x-python",
   "name": "python",
   "nbconvert_exporter": "python",
   "pygments_lexer": "ipython3",
   "version": "3.10.9"
  }
 },
 "nbformat": 4,
 "nbformat_minor": 5
}
